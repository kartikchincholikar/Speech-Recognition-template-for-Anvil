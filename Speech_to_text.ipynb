{
  "cells": [
    {
      "cell_type": "markdown",
      "metadata": {
        "id": "view-in-github",
        "colab_type": "text"
      },
      "source": [
        "<a href=\"https://colab.research.google.com/github/kartikchincholikar/Speech-Recognition-template-for-Anvil/blob/main/Speech_to_text.ipynb\" target=\"_parent\"><img src=\"https://colab.research.google.com/assets/colab-badge.svg\" alt=\"Open In Colab\"/></a>"
      ]
    },
    {
      "cell_type": "markdown",
      "metadata": {
        "id": "i-vXrDdaunXH"
      },
      "source": [
        "# Loading MOdel"
      ]
    },
    {
      "cell_type": "code",
      "execution_count": null,
      "metadata": {
        "id": "zizZ383dzSGm"
      },
      "outputs": [],
      "source": [
        "!wget https://github.com/mozilla/DeepSpeech/releases/download/v0.9.3/deepspeech-0.9.3-models.pbmm\n",
        "!wget https://github.com/mozilla/DeepSpeech/releases/download/v0.9.3/deepspeech-0.9.3-models.scorer\n",
        "!pip3 install --upgrade deepspeech\n",
        "!pip3 install pysoundfile\n",
        "!pip install tensorflow_io\n",
        "!pip install pydub"
      ]
    },
    {
      "cell_type": "code",
      "execution_count": null,
      "metadata": {
        "id": "8AADkVjFR2k8"
      },
      "outputs": [],
      "source": [
        "import numpy as np\n",
        "import tensorflow as tf\n",
        "import tensorflow_io as tfio\n",
        "import soundfile\n",
        "from pydub.utils import mediainfo\n",
        "from deepspeech import Model\n",
        "import wave "
      ]
    },
    {
      "cell_type": "code",
      "execution_count": null,
      "metadata": {
        "id": "J9gUZbxWR4yE"
      },
      "outputs": [],
      "source": [
        "\n",
        "\n",
        "#mediainfo(\"checking.wav\")\n",
        "#mediainfo(\"checking_16.wav\")\n",
        "#mediainfo(\"8455-210777-0068.wav\")"
      ]
    },
    {
      "cell_type": "code",
      "execution_count": null,
      "metadata": {
        "colab": {
          "base_uri": "https://localhost:8080/"
        },
        "id": "bnLy7I4iz1nQ",
        "outputId": "4d77b433-df87-4411-a041-7cd8f85a4520"
      },
      "outputs": [
        {
          "data": {
            "text/plain": [
              "0"
            ]
          },
          "execution_count": 4,
          "metadata": {},
          "output_type": "execute_result"
        }
      ],
      "source": [
        "\n",
        "\n",
        "ds = Model('/content/deepspeech-0.9.3-models.pbmm')\n",
        "scorer_file_path = '/content/deepspeech-0.9.3-models.scorer'\n",
        "ds.enableExternalScorer(scorer_file_path)\n",
        "lm_alpha = 0.75\n",
        "lm_beta = 1.85\n",
        "ds.setScorerAlphaBeta(lm_alpha, lm_beta)\n",
        "beam_width = 500\n",
        "ds.setBeamWidth(beam_width)"
      ]
    },
    {
      "cell_type": "code",
      "execution_count": null,
      "metadata": {
        "id": "VHWDf8a2437e"
      },
      "outputs": [],
      "source": [
        "#text = ds.stt(load_audio(\"checking_16.wav\"))"
      ]
    },
    {
      "cell_type": "markdown",
      "metadata": {
        "id": "BOG2HaOqkFJ1"
      },
      "source": [
        "# ANVIL"
      ]
    },
    {
      "cell_type": "code",
      "execution_count": null,
      "metadata": {
        "id": "-SiYARJrROxD"
      },
      "outputs": [],
      "source": [
        "!pip install pydub\n",
        "!pip install anvil-uplink"
      ]
    },
    {
      "cell_type": "code",
      "execution_count": null,
      "metadata": {
        "id": "gz9xTPeALRdl"
      },
      "outputs": [],
      "source": [
        "import anvil\n",
        "import anvil.server\n",
        "import anvil.media\n",
        "from anvil.media import TempFile\n",
        "import anvil.js\n",
        "from pydub import AudioSegment\n",
        "import io"
      ]
    },
    {
      "cell_type": "code",
      "execution_count": null,
      "metadata": {
        "colab": {
          "base_uri": "https://localhost:8080/"
        },
        "id": "AJnxfPHQkTtp",
        "outputId": "f578774e-b0a3-47b1-a445-c64a0849f2d9"
      },
      "outputs": [
        {
          "name": "stdout",
          "output_type": "stream",
          "text": [
            "Connecting to wss://anvil.works/uplink\n",
            "Anvil websocket open\n",
            "Connected to \"Default environment\" as SERVER\n"
          ]
        }
      ],
      "source": [
        "anvil.server.connect(\"PASTE ANVIL UPLINK KEY HERE\")"
      ]
    },
    {
      "cell_type": "code",
      "execution_count": null,
      "metadata": {
        "id": "a34PkMjLJfS9"
      },
      "outputs": [],
      "source": [
        "\n",
        "\n",
        "def load_audio(audio_path):\n",
        "  fin = wave.open(audio_path, 'rb')\n",
        "  audio = np.frombuffer(fin.readframes(fin.getnframes()), np.int16)\n",
        "  fin.close()\n",
        "  return audio\n",
        "\n",
        "#def frame_rate(audio_path):\n",
        "#  fin = wave.open(audio_path, 'rb')\n",
        "#  sample_rate = fin.getframerate()\n",
        "#  fin.close()\n",
        "#  return sample_rate"
      ]
    },
    {
      "cell_type": "code",
      "execution_count": null,
      "metadata": {
        "id": "jgvdh8nckagD"
      },
      "outputs": [],
      "source": [
        "@anvil.server.callable\n",
        "def speech_to_text(media):\n",
        "\n",
        "  \n",
        "  print(f'url: {media.url}')\n",
        "  print(f'content_type: {media.content_type}')\n",
        "  print(f'length: {media.length} bytes')\n",
        "  # This will be `None` since this is a website, not a file\n",
        "  print(f'name: {media.name}')\n",
        "\n",
        "  media_object = anvil.BlobMedia('audio/webm', media.get_bytes(), name='testing3.webm')\n",
        "  with open('testing3.webm', 'wb+') as f:\n",
        "\n",
        "\n",
        "    #Get bytes and set sampling rate\n",
        "    song = AudioSegment.from_file(io.BytesIO(media_object.get_bytes()), format=\"webm\")\n",
        "    print(song.duration_seconds)\n",
        "    song = song.set_frame_rate(16000)                                          ##########\n",
        "    song.export(\"temp.wav\", format=\"wav\", bitrate=\"256k\")\n",
        "\n",
        "    # #PCM 32 to PCM 16\n",
        "    data, samplerate = soundfile.read('temp.wav')\n",
        "    soundfile.write('temp.wav', data, samplerate, subtype='PCM_16')  \n",
        "\n",
        "    audio_file = \"temp.wav\"\n",
        "    text = ds.stt(load_audio(audio_file))#, frame_rate(audio_file)      #########\n",
        "    print(text)\n",
        "    \n",
        "  return text"
      ]
    },
    {
      "cell_type": "code",
      "execution_count": null,
      "metadata": {
        "colab": {
          "background_save": true,
          "base_uri": "https://localhost:8080/"
        },
        "id": "BBkXZe8bq_bk",
        "outputId": "bb59fd4e-ba0e-456d-bf97-15a1dc3da812"
      },
      "outputs": [
        {
          "name": "stdout",
          "output_type": "stream",
          "text": [
            "url: None\n",
            "content_type: audio/webm;codecs=opus\n",
            "length: 21733 bytes\n",
            "name: recording\n",
            "3.78\n",
            "i went to look at it\n",
            "url: None\n",
            "content_type: audio/webm;codecs=opus\n",
            "length: 17931 bytes\n",
            "name: recording\n",
            "3.24\n",
            "i have been to the garage\n",
            "url: None\n",
            "content_type: audio/webm;codecs=opus\n",
            "length: 38038 bytes\n",
            "name: recording\n",
            "7.56\n",
            "i have been to look at age\n",
            "url: None\n",
            "content_type: audio/webm;codecs=opus\n",
            "length: 21102 bytes\n",
            "name: recording\n",
            "3.78\n",
            "i went to the garage\n",
            "url: None\n",
            "content_type: audio/webm;codecs=opus\n",
            "length: 13404 bytes\n",
            "name: recording\n",
            "2.34\n",
            "i went to the garage\n",
            "url: None\n",
            "content_type: audio/webm;codecs=opus\n",
            "length: 36748 bytes\n",
            "name: recording\n",
            "6.54\n",
            "i would i i went to the garage\n"
          ]
        }
      ],
      "source": [
        "anvil.server.wait_forever()"
      ]
    },
    {
      "cell_type": "code",
      "execution_count": null,
      "metadata": {
        "id": "orw0NAtFFQ_n"
      },
      "outputs": [],
      "source": [
        "#mediainfo(\"checking.wav\")"
      ]
    },
    {
      "cell_type": "code",
      "execution_count": null,
      "metadata": {
        "id": "YbXB3CJjFL51"
      },
      "outputs": [],
      "source": [
        ""
      ]
    }
  ],
  "metadata": {
    "colab": {
      "collapsed_sections": [
        "6UvpBAfRiYrD"
      ],
      "name": "Speech to text",
      "provenance": [],
      "include_colab_link": true
    },
    "kernelspec": {
      "display_name": "Python 3",
      "name": "python3"
    },
    "language_info": {
      "name": "python"
    }
  },
  "nbformat": 4,
  "nbformat_minor": 0
}